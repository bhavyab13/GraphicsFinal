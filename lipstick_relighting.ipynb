{
 "cells": [
  {
   "cell_type": "markdown",
   "metadata": {},
   "source": [
    "This notebook implements facial landmark detection, lip segmentation, and lighting estimation for lipstick rendering."
   ]
  },
  {
   "cell_type": "code",
   "execution_count": 2,
   "metadata": {},
   "outputs": [],
   "source": [
    "import os\n",
    "os.environ[\"OPENCV_IO_ENABLE_OPENEXR\"]=\"1\"\n",
    "import cv2"
   ]
  },
  {
   "cell_type": "code",
   "execution_count": 3,
   "metadata": {},
   "outputs": [],
   "source": [
    "import mediapipe as mp\n",
    "import numpy as np\n",
    "import matplotlib.pyplot as plt\n",
    "import json"
   ]
  },
  {
   "cell_type": "markdown",
   "metadata": {},
   "source": [
    "## Step 1: Load CelebA Metadata"
   ]
  },
  {
   "cell_type": "code",
   "execution_count": 4,
   "metadata": {},
   "outputs": [
    {
     "name": "stdout",
     "output_type": "stream",
     "text": [
      "path  test_publishable_list exists  True\n"
     ]
    }
   ],
   "source": [
    "def load_celeba_data(image_dir = \"test_publishable_list\"):\n",
    "    # Assuming images are stored in 'test_publishable_list' directory relative to metadata file\n",
    "    image_files = []\n",
    "    print(\"path \",image_dir + \" exists \",os.path.exists(image_dir))\n",
    "    if os.path.exists(image_dir):\n",
    "        image_files = [os.path.join(image_dir, f) for f in os.listdir(image_dir) if f.startswith('test_publishable_list')]\n",
    "    # if os.path.exists(image_dir):\n",
    "    #     for f in os.listdir(image_dir):\n",
    "    #         if f.startswith('test_publishable_list'):\n",
    "    #             exr_path = os.path.join(image_dir, f, '1_Albedo.exr')\n",
    "    #             if os.path.exists(exr_path):\n",
    "    #                 image_files.append(exr_path)\n",
    "    return image_files\n",
    "\n",
    "\n",
    "files = load_celeba_data(\"test_publishable_list\")"
   ]
  },
  {
   "cell_type": "markdown",
   "metadata": {},
   "source": [
    "## Step 2: Image Processing Functions"
   ]
  },
  {
   "cell_type": "code",
   "execution_count": 5,
   "metadata": {},
   "outputs": [
    {
     "name": "stdout",
     "output_type": "stream",
     "text": [
      "path  test_publishable_list exists  True\n"
     ]
    },
    {
     "name": "stderr",
     "output_type": "stream",
     "text": [
      "WARNING: All log messages before absl::InitializeLog() is called are written to STDERR\n",
      "I0000 00:00:1733641394.778992  280999 gl_context.cc:357] GL version: 2.1 (2.1 Metal - 88.1), renderer: Apple M1\n",
      "INFO: Created TensorFlow Lite XNNPACK delegate for CPU.\n",
      "W0000 00:00:1733641394.781707  281257 inference_feedback_manager.cc:114] Feedback manager requires a model with a single signature inference. Disabling support for feedback tensors.\n",
      "W0000 00:00:1733641394.787567  281255 inference_feedback_manager.cc:114] Feedback manager requires a model with a single signature inference. Disabling support for feedback tensors.\n",
      "W0000 00:00:1733641394.789911  281257 landmark_projection_calculator.cc:186] Using NORM_RECT without IMAGE_DIMENSIONS is only supported for the square ROI. Provide IMAGE_DIMENSIONS or use PROJECTION_MATRIX.\n"
     ]
    },
    {
     "data": {
      "image/png": "[encoded data removed]",
      "text/plain": [
       "<Figure size 640x480 with 1 Axes>"
      ]
     },
     "metadata": {},
     "output_type": "display_data"
    }
   ],
   "source": [
    "def preprocess_image(image_path):\n",
    "    image = cv2.imread(image_path, cv2.IMREAD_UNCHANGED)\n",
    "\n",
    "    # For HDR EXR files, clip to [0, 1] and convert to 8-bit\n",
    "    if image.dtype == np.float32:  \n",
    "        image = np.clip(image, 0, 1) \n",
    "        image = (image * 255).astype(np.uint8)\n",
    "\n",
    "    image_resized = cv2.resize(image, (512, 512))\n",
    "    image_rgb = cv2.cvtColor(image_resized, cv2.COLOR_BGR2RGB)\n",
    "    return image_rgb\n",
    "\n",
    "def lip_segmentation(image_rgb):\n",
    "    # mp_face_mesh = mp.solutions.face_mesh\n",
    "    face_mesh = mp.solutions.face_mesh.FaceMesh(\n",
    "        static_image_mode=True, max_num_faces=1, refine_landmarks=True)\n",
    "    results = face_mesh.process(image_rgb)\n",
    "    \n",
    "    lip_indices = [\n",
    "        61, 146, 91, 181, 84, 17, 314, 405, 321, 375,\n",
    "        291, 61, 185, 40, 39, 37, 0, 267, 269, 270,\n",
    "        409, 291, 78, 95, 88, 178, 87, 14, 317, 402,\n",
    "        318, 324, 308, 78, 191, 80, 81, 82, 13, 312,\n",
    "        311, 310, 415, 308\n",
    "    ]\n",
    "    \n",
    "    if results.multi_face_landmarks:\n",
    "        face_landmarks = results.multi_face_landmarks[0]\n",
    "        lip_landmarks = [face_landmarks.landmark[i] for i in lip_indices]\n",
    "        mask = np.zeros(image_rgb.shape[:2], dtype=np.uint8)\n",
    "        points = [\n",
    "            (int(landmark.x * image_rgb.shape[1]), int(landmark.y * image_rgb.shape[0]))\n",
    "            for landmark in lip_landmarks\n",
    "        ]\n",
    "        points = np.array(points, dtype=np.int32)\n",
    "        cv2.fillPoly(mask, [points], 255)\n",
    "        lip_mask = cv2.bitwise_and(image_rgb, image_rgb, mask=mask)\n",
    "        return lip_mask, mask\n",
    "    return None, None\n",
    "\n",
    "def display_image(image, title=\"Title\"):\n",
    "    plt.imshow(image)\n",
    "    plt.title(title)\n",
    "    plt.show()\n",
    "\n",
    "files = load_celeba_data(\"test_publishable_list\")\n",
    "file0 = files[0]\n",
    "pp_img = preprocess_image(os.path.join(file0, '1_Albedo.exr'))\n",
    "lip_mask, mask = lip_segmentation(pp_img)\n",
    "display_image(lip_mask, \"Lip Mask\")\n"
   ]
  },
  {
   "cell_type": "markdown",
   "metadata": {},
   "source": [
    "## Step 3: Lighting Estimation"
   ]
  },
  {
   "cell_type": "code",
   "execution_count": 6,
   "metadata": {},
   "outputs": [],
   "source": [
    "import torch\n",
    "\n",
    "def evaluate_sh_basis_gpu(theta, phi):\n",
    "    \"\"\"Vectorized SH basis computation on GPU\"\"\"\n",
    "    sh_basis = torch.zeros((theta.shape[0], 9), device=theta.device)\n",
    "    \n",
    "    # Y00\n",
    "    sh_basis[:, 0] = 0.282095 * torch.ones_like(theta)\n",
    "    # Y1m\n",
    "    sh_basis[:, 1] = 0.488603 * torch.sin(theta) * torch.cos(phi)\n",
    "    sh_basis[:, 2] = 0.488603 * torch.sin(theta) * torch.sin(phi)\n",
    "    sh_basis[:, 3] = 0.488603 * torch.cos(theta)\n",
    "    # Y2m\n",
    "    sh_basis[:, 4] = 1.092548 * torch.sin(theta)**2 * torch.cos(2*phi)\n",
    "    sh_basis[:, 5] = 1.092548 * torch.sin(theta) * torch.cos(theta) * torch.cos(phi)\n",
    "    sh_basis[:, 6] = 0.315392 * (3*torch.cos(theta)**2 - 1)\n",
    "    sh_basis[:, 7] = 1.092548 * torch.sin(theta) * torch.cos(theta) * torch.sin(phi)\n",
    "    sh_basis[:, 8] = 0.546274 * torch.sin(theta)**2 * torch.cos(2*phi)\n",
    "    \n",
    "    return sh_basis"
   ]
  },
  {
   "cell_type": "code",
   "execution_count": 65,
   "metadata": {},
   "outputs": [],
   "source": [
    "import torch\n",
    "import numpy as np\n",
    "\n",
    "def estimate_lighting_gpu(image_rgb, face_landmarks, device='cuda'):\n",
    "    \"\"\"GPU-accelerated lighting estimation using spherical harmonics\"\"\"\n",
    "    # Convert inputs to torch tensors with explicit dtype\n",
    "    image_tensor = torch.from_numpy(image_rgb).float().to(device)\n",
    "    \n",
    "    # Extract face geometry\n",
    "    image_h, image_w = image_rgb.shape[:2]\n",
    "    vertices = torch.tensor([\n",
    "        [landmark.x * image_w, landmark.y * image_h, landmark.z]\n",
    "        for landmark in face_landmarks.landmark\n",
    "    ], dtype=torch.float32, device=device)\n",
    "    \n",
    "    # Compute face normals using neighboring vertices\n",
    "    v1 = vertices[1:-1] - vertices[:-2]  # Size: N-2\n",
    "    v2 = vertices[2:] - vertices[1:-1]   # Size: N-2\n",
    "    \n",
    "    # Debug size check\n",
    "    assert v1.shape == v2.shape, f\"Shape mismatch: v1 {v1.shape} vs v2 {v2.shape}\"\n",
    "    \n",
    "    normals = torch.cross(v1, v2)\n",
    "    normals = normals / (torch.norm(normals, dim=1, keepdim=True) + 1e-6)  # Add epsilon to avoid div by 0\n",
    "    \n",
    "    # Create face mask\n",
    "    face_mask = torch.zeros((image_h, image_w), dtype=torch.float32, device=device)\n",
    "    points = vertices[:, :2].cpu().numpy().astype(np.int32)\n",
    "    face_mask = torch.from_numpy(\n",
    "        cv2.fillConvexPoly(face_mask.cpu().numpy(), points, 1)\n",
    "    ).to(device)\n",
    "    \n",
    "    # Sample face colors and positions\n",
    "    y_coords, x_coords = torch.where(face_mask > 0)\n",
    "    colors = image_tensor[y_coords, x_coords].float()  # Ensure float type\n",
    "    \n",
    "    # Convert to spherical coordinates\n",
    "    positions = torch.stack([\n",
    "        x_coords.float() / image_w * 2 - 1,\n",
    "        y_coords.float() / image_h * 2 - 1\n",
    "    ], dim=1)\n",
    "    \n",
    "    # Compute spherical harmonics basis\n",
    "    theta = torch.arccos(torch.clamp(positions[:, 1], -1, 1))\n",
    "    phi = torch.arctan2(positions[:, 0], torch.ones_like(positions[:, 0]))\n",
    "    \n",
    "    # Evaluate SH basis functions\n",
    "    sh_basis = evaluate_sh_basis_gpu(theta, phi)\n",
    "    \n",
    "    # Debug dtype check\n",
    "    assert sh_basis.dtype == colors.dtype, f\"Dtype mismatch: sh_basis {sh_basis.dtype} vs colors {colors.dtype}\"\n",
    "    \n",
    "    # Solve for coefficients using least squares\n",
    "    sh_coefficients = torch.linalg.lstsq(sh_basis, colors).solution[:9]\n",
    "    \n",
    "    return sh_coefficients.cpu().numpy()\n",
    "\n"
   ]
  },
  {
   "cell_type": "markdown",
   "metadata": {},
   "source": [
    "## Step 4: Physically-Inspired Lipstick Rendering"
   ]
  },
  {
   "cell_type": "code",
   "execution_count": 15,
   "metadata": {},
   "outputs": [],
   "source": [
    "'''Helper Functions'''\n",
    "\n",
    "def feather_mask(binary_mask, blur_radius=15):\n",
    "    # Apply Gaussian blur to create a soft gradient around given mask\n",
    "    feathered_mask = cv2.GaussianBlur(binary_mask, (blur_radius, blur_radius), 0)\n",
    "    feathered_mask = np.clip(feathered_mask, 0, 255).astype(np.uint8)\n",
    "    return feathered_mask\n",
    "\n",
    "\n",
    "def blend_albedo(albedo, lip_binary_mask, lipstick_color, blend_factor=0.5):\n",
    "    # Blend albedo with provided lipstick color\n",
    "    lipstick_layer = np.zeros_like(albedo)\n",
    "    lipstick_layer[:, :] = lipstick_color   \n",
    "    masked_lipstick = cv2.bitwise_and(lipstick_layer, lipstick_layer, mask=lip_binary_mask)\n",
    "    masked_albedo = cv2.bitwise_and(albedo, albedo, mask=lip_binary_mask)\n",
    "    blended_albedo = cv2.addWeighted(masked_albedo, 1 - blend_factor, masked_lipstick, blend_factor, 0)\n",
    "    return blended_albedo\n",
    "\n",
    "\n",
    "def adjust_specular_with_roughness(specular_map, roughness_map, intensity=1.0):\n",
    "    # Use roughness to adjust specular highlights\n",
    "    gloss_factor = 1 - roughness_map / 255.0\n",
    "    highlights = cv2.multiply(specular_map.astype(np.float64), gloss_factor)\n",
    "    highlights = (highlights * intensity).astype(np.uint8)\n",
    "    return highlights\n",
    "\n",
    "def apply_fresnel_effect(specular_map, depth_map, lip_binary_mask, intensity=1.0):\n",
    "    # Normalize depth map and compute Fresnel term\n",
    "    normalized_depth = cv2.normalize(depth_map, None, 0, 1, cv2.NORM_MINMAX)\n",
    "    fresnel_effect = 1 - np.power(normalized_depth, 2)\n",
    "    enhanced_specular = (specular_map.astype(np.float32) * fresnel_effect * intensity)\n",
    "    masked_specular = cv2.bitwise_and((enhanced_specular).astype(np.uint8),\n",
    "                                      (enhanced_specular).astype(np.uint8),\n",
    "                                      mask=lip_binary_mask)\n",
    "    return masked_specular\n",
    "\n",
    "def composite_final_image(albedo_image, albedo, diffuse, specular):\n",
    "    # Combine diffuse and specular components (adjustable)\n",
    "    blended_mask = cv2.addWeighted(diffuse, 0.1, specular, 0.8, 0)\n",
    "    # Combine lighting components with lipstick color (adjustable)\n",
    "    blended_mask = cv2.addWeighted(albedo, 1.0, blended_mask, 0.8, 0)\n",
    "    # Apply combined masks in a smooth gradient manner\n",
    "    feathered_mask = feather_mask(blended_mask, blur_radius=7)\n",
    "    blended_mask = cv2.addWeighted(albedo_image, 1.0, feathered_mask, 1.0, 0)\n",
    "    return blended_mask\n",
    "\n"
   ]
  },
  {
   "cell_type": "markdown",
   "metadata": {},
   "source": [
    "## Main Processing Pipeline"
   ]
  },
  {
   "cell_type": "code",
   "execution_count": 16,
   "metadata": {},
   "outputs": [
    {
     "name": "stdout",
     "output_type": "stream",
     "text": [
      "path  test_publishable_list exists  True\n",
      "Processed and saved outputs for test_publishable_list_2_340\n"
     ]
    },
    {
     "name": "stderr",
     "output_type": "stream",
     "text": [
      "I0000 00:00:1733642614.908597  280999 gl_context.cc:357] GL version: 2.1 (2.1 Metal - 88.1), renderer: Apple M1\n",
      "W0000 00:00:1733642614.909823  295002 inference_feedback_manager.cc:114] Feedback manager requires a model with a single signature inference. Disabling support for feedback tensors.\n",
      "W0000 00:00:1733642614.914116  295002 inference_feedback_manager.cc:114] Feedback manager requires a model with a single signature inference. Disabling support for feedback tensors.\n",
      "I0000 00:00:1733642615.044997  280999 gl_context.cc:357] GL version: 2.1 (2.1 Metal - 88.1), renderer: Apple M1\n",
      "W0000 00:00:1733642615.046410  295021 inference_feedback_manager.cc:114] Feedback manager requires a model with a single signature inference. Disabling support for feedback tensors.\n",
      "W0000 00:00:1733642615.051075  295021 inference_feedback_manager.cc:114] Feedback manager requires a model with a single signature inference. Disabling support for feedback tensors.\n"
     ]
    },
    {
     "name": "stdout",
     "output_type": "stream",
     "text": [
      "Processed and saved outputs for test_publishable_list_2_527\n",
      "Processed and saved outputs for test_publishable_list_3_527\n"
     ]
    },
    {
     "name": "stderr",
     "output_type": "stream",
     "text": [
      "I0000 00:00:1733642615.195804  280999 gl_context.cc:357] GL version: 2.1 (2.1 Metal - 88.1), renderer: Apple M1\n",
      "W0000 00:00:1733642615.196881  295027 inference_feedback_manager.cc:114] Feedback manager requires a model with a single signature inference. Disabling support for feedback tensors.\n",
      "W0000 00:00:1733642615.200659  295027 inference_feedback_manager.cc:114] Feedback manager requires a model with a single signature inference. Disabling support for feedback tensors.\n",
      "I0000 00:00:1733642615.354033  280999 gl_context.cc:357] GL version: 2.1 (2.1 Metal - 88.1), renderer: Apple M1\n",
      "W0000 00:00:1733642615.355470  295046 inference_feedback_manager.cc:114] Feedback manager requires a model with a single signature inference. Disabling support for feedback tensors.\n",
      "W0000 00:00:1733642615.360177  295046 inference_feedback_manager.cc:114] Feedback manager requires a model with a single signature inference. Disabling support for feedback tensors.\n"
     ]
    },
    {
     "name": "stdout",
     "output_type": "stream",
     "text": [
      "Processed and saved outputs for test_publishable_list_3_340\n",
      "Processed and saved outputs for test_publishable_list_1_340\n",
      "Missing image path!\n"
     ]
    },
    {
     "name": "stderr",
     "output_type": "stream",
     "text": [
      "Context leak detected, msgtracer returned -1\n",
      "I0000 00:00:1733642615.497010  280999 gl_context.cc:357] GL version: 2.1 (2.1 Metal - 88.1), renderer: Apple M1\n",
      "W0000 00:00:1733642615.498144  295072 inference_feedback_manager.cc:114] Feedback manager requires a model with a single signature inference. Disabling support for feedback tensors.\n",
      "W0000 00:00:1733642615.502870  295069 inference_feedback_manager.cc:114] Feedback manager requires a model with a single signature inference. Disabling support for feedback tensors.\n",
      "I0000 00:00:1733642615.635653  280999 gl_context.cc:357] GL version: 2.1 (2.1 Metal - 88.1), renderer: Apple M1\n",
      "W0000 00:00:1733642615.637273  295076 inference_feedback_manager.cc:114] Feedback manager requires a model with a single signature inference. Disabling support for feedback tensors.\n",
      "W0000 00:00:1733642615.641660  295076 inference_feedback_manager.cc:114] Feedback manager requires a model with a single signature inference. Disabling support for feedback tensors.\n"
     ]
    },
    {
     "name": "stdout",
     "output_type": "stream",
     "text": [
      "Processed and saved outputs for test_publishable_list_0_527\n",
      "Processed and saved outputs for test_publishable_list_0_340\n"
     ]
    },
    {
     "name": "stderr",
     "output_type": "stream",
     "text": [
      "I0000 00:00:1733642615.828230  280999 gl_context.cc:357] GL version: 2.1 (2.1 Metal - 88.1), renderer: Apple M1\n",
      "W0000 00:00:1733642615.829360  295109 inference_feedback_manager.cc:114] Feedback manager requires a model with a single signature inference. Disabling support for feedback tensors.\n",
      "W0000 00:00:1733642615.833877  295108 inference_feedback_manager.cc:114] Feedback manager requires a model with a single signature inference. Disabling support for feedback tensors.\n",
      "I0000 00:00:1733642615.967442  280999 gl_context.cc:357] GL version: 2.1 (2.1 Metal - 88.1), renderer: Apple M1\n",
      "W0000 00:00:1733642615.968643  295127 inference_feedback_manager.cc:114] Feedback manager requires a model with a single signature inference. Disabling support for feedback tensors.\n",
      "W0000 00:00:1733642615.972985  295127 inference_feedback_manager.cc:114] Feedback manager requires a model with a single signature inference. Disabling support for feedback tensors.\n"
     ]
    },
    {
     "name": "stdout",
     "output_type": "stream",
     "text": [
      "Processed and saved outputs for test_publishable_list_4_340\n",
      "Processed and saved outputs for test_publishable_list_4_527\n"
     ]
    },
    {
     "name": "stderr",
     "output_type": "stream",
     "text": [
      "I0000 00:00:1733642616.106181  280999 gl_context.cc:357] GL version: 2.1 (2.1 Metal - 88.1), renderer: Apple M1\n",
      "W0000 00:00:1733642616.107832  295142 inference_feedback_manager.cc:114] Feedback manager requires a model with a single signature inference. Disabling support for feedback tensors.\n",
      "W0000 00:00:1733642616.111917  295142 inference_feedback_manager.cc:114] Feedback manager requires a model with a single signature inference. Disabling support for feedback tensors.\n",
      "I0000 00:00:1733642616.251612  280999 gl_context.cc:357] GL version: 2.1 (2.1 Metal - 88.1), renderer: Apple M1\n",
      "W0000 00:00:1733642616.252713  295151 inference_feedback_manager.cc:114] Feedback manager requires a model with a single signature inference. Disabling support for feedback tensors.\n",
      "W0000 00:00:1733642616.256663  295153 inference_feedback_manager.cc:114] Feedback manager requires a model with a single signature inference. Disabling support for feedback tensors.\n"
     ]
    },
    {
     "name": "stdout",
     "output_type": "stream",
     "text": [
      "Processed and saved outputs for test_publishable_list_5_527\n",
      "Processed and saved outputs for test_publishable_list_5_340\n"
     ]
    },
    {
     "name": "stderr",
     "output_type": "stream",
     "text": [
      "I0000 00:00:1733642616.397281  280999 gl_context.cc:357] GL version: 2.1 (2.1 Metal - 88.1), renderer: Apple M1\n",
      "W0000 00:00:1733642616.398503  295166 inference_feedback_manager.cc:114] Feedback manager requires a model with a single signature inference. Disabling support for feedback tensors.\n",
      "W0000 00:00:1733642616.402807  295164 inference_feedback_manager.cc:114] Feedback manager requires a model with a single signature inference. Disabling support for feedback tensors.\n",
      "I0000 00:00:1733642616.527110  280999 gl_context.cc:357] GL version: 2.1 (2.1 Metal - 88.1), renderer: Apple M1\n",
      "W0000 00:00:1733642616.528473  295171 inference_feedback_manager.cc:114] Feedback manager requires a model with a single signature inference. Disabling support for feedback tensors.\n",
      "W0000 00:00:1733642616.533173  295172 inference_feedback_manager.cc:114] Feedback manager requires a model with a single signature inference. Disabling support for feedback tensors.\n"
     ]
    },
    {
     "name": "stdout",
     "output_type": "stream",
     "text": [
      "Processed and saved outputs for test_publishable_list_6_527\n",
      "Processed and saved outputs for test_publishable_list_6_340\n"
     ]
    },
    {
     "name": "stderr",
     "output_type": "stream",
     "text": [
      "I0000 00:00:1733642616.685374  280999 gl_context.cc:357] GL version: 2.1 (2.1 Metal - 88.1), renderer: Apple M1\n",
      "W0000 00:00:1733642616.686890  295178 inference_feedback_manager.cc:114] Feedback manager requires a model with a single signature inference. Disabling support for feedback tensors.\n",
      "W0000 00:00:1733642616.691420  295178 inference_feedback_manager.cc:114] Feedback manager requires a model with a single signature inference. Disabling support for feedback tensors.\n",
      "I0000 00:00:1733642616.821448  280999 gl_context.cc:357] GL version: 2.1 (2.1 Metal - 88.1), renderer: Apple M1\n",
      "W0000 00:00:1733642616.822540  295186 inference_feedback_manager.cc:114] Feedback manager requires a model with a single signature inference. Disabling support for feedback tensors.\n",
      "W0000 00:00:1733642616.828168  295191 inference_feedback_manager.cc:114] Feedback manager requires a model with a single signature inference. Disabling support for feedback tensors.\n"
     ]
    },
    {
     "name": "stdout",
     "output_type": "stream",
     "text": [
      "Processed and saved outputs for test_publishable_list_0_610\n",
      "Processed and saved outputs for test_publishable_list_6_594\n"
     ]
    },
    {
     "name": "stderr",
     "output_type": "stream",
     "text": [
      "I0000 00:00:1733642616.970520  280999 gl_context.cc:357] GL version: 2.1 (2.1 Metal - 88.1), renderer: Apple M1\n",
      "W0000 00:00:1733642616.971913  295197 inference_feedback_manager.cc:114] Feedback manager requires a model with a single signature inference. Disabling support for feedback tensors.\n",
      "W0000 00:00:1733642616.977631  295194 inference_feedback_manager.cc:114] Feedback manager requires a model with a single signature inference. Disabling support for feedback tensors.\n",
      "I0000 00:00:1733642617.128847  280999 gl_context.cc:357] GL version: 2.1 (2.1 Metal - 88.1), renderer: Apple M1\n",
      "W0000 00:00:1733642617.130027  295207 inference_feedback_manager.cc:114] Feedback manager requires a model with a single signature inference. Disabling support for feedback tensors.\n",
      "W0000 00:00:1733642617.134159  295209 inference_feedback_manager.cc:114] Feedback manager requires a model with a single signature inference. Disabling support for feedback tensors.\n"
     ]
    },
    {
     "name": "stdout",
     "output_type": "stream",
     "text": [
      "Processed and saved outputs for test_publishable_list_1_610\n",
      "Processed and saved outputs for test_publishable_list_3_610\n",
      "Missing image path!\n"
     ]
    },
    {
     "name": "stderr",
     "output_type": "stream",
     "text": [
      "I0000 00:00:1733642617.275349  280999 gl_context.cc:357] GL version: 2.1 (2.1 Metal - 88.1), renderer: Apple M1\n",
      "W0000 00:00:1733642617.276658  295221 inference_feedback_manager.cc:114] Feedback manager requires a model with a single signature inference. Disabling support for feedback tensors.\n",
      "W0000 00:00:1733642617.280473  295221 inference_feedback_manager.cc:114] Feedback manager requires a model with a single signature inference. Disabling support for feedback tensors.\n",
      "I0000 00:00:1733642617.415334  280999 gl_context.cc:357] GL version: 2.1 (2.1 Metal - 88.1), renderer: Apple M1\n",
      "W0000 00:00:1733642617.416551  295226 inference_feedback_manager.cc:114] Feedback manager requires a model with a single signature inference. Disabling support for feedback tensors.\n",
      "W0000 00:00:1733642617.420946  295226 inference_feedback_manager.cc:114] Feedback manager requires a model with a single signature inference. Disabling support for feedback tensors.\n"
     ]
    },
    {
     "name": "stdout",
     "output_type": "stream",
     "text": [
      "Processed and saved outputs for test_publishable_list_5_594\n",
      "Processed and saved outputs for test_publishable_list_2_610\n"
     ]
    },
    {
     "name": "stderr",
     "output_type": "stream",
     "text": [
      "I0000 00:00:1733642617.576572  280999 gl_context.cc:357] GL version: 2.1 (2.1 Metal - 88.1), renderer: Apple M1\n",
      "W0000 00:00:1733642617.577793  295243 inference_feedback_manager.cc:114] Feedback manager requires a model with a single signature inference. Disabling support for feedback tensors.\n",
      "W0000 00:00:1733642617.582276  295243 inference_feedback_manager.cc:114] Feedback manager requires a model with a single signature inference. Disabling support for feedback tensors.\n",
      "I0000 00:00:1733642617.713205  280999 gl_context.cc:357] GL version: 2.1 (2.1 Metal - 88.1), renderer: Apple M1\n",
      "W0000 00:00:1733642617.714480  295270 inference_feedback_manager.cc:114] Feedback manager requires a model with a single signature inference. Disabling support for feedback tensors.\n",
      "W0000 00:00:1733642617.718835  295270 inference_feedback_manager.cc:114] Feedback manager requires a model with a single signature inference. Disabling support for feedback tensors.\n"
     ]
    },
    {
     "name": "stdout",
     "output_type": "stream",
     "text": [
      "Processed and saved outputs for test_publishable_list_6_610\n",
      "Processed and saved outputs for test_publishable_list_1_594\n"
     ]
    },
    {
     "name": "stderr",
     "output_type": "stream",
     "text": [
      "I0000 00:00:1733642617.860224  280999 gl_context.cc:357] GL version: 2.1 (2.1 Metal - 88.1), renderer: Apple M1\n",
      "W0000 00:00:1733642617.861413  295279 inference_feedback_manager.cc:114] Feedback manager requires a model with a single signature inference. Disabling support for feedback tensors.\n",
      "W0000 00:00:1733642617.865429  295285 inference_feedback_manager.cc:114] Feedback manager requires a model with a single signature inference. Disabling support for feedback tensors.\n",
      "Context leak detected, msgtracer returned -1\n",
      "I0000 00:00:1733642618.010556  280999 gl_context.cc:357] GL version: 2.1 (2.1 Metal - 88.1), renderer: Apple M1\n",
      "W0000 00:00:1733642618.011778  295290 inference_feedback_manager.cc:114] Feedback manager requires a model with a single signature inference. Disabling support for feedback tensors.\n",
      "W0000 00:00:1733642618.016045  295289 inference_feedback_manager.cc:114] Feedback manager requires a model with a single signature inference. Disabling support for feedback tensors.\n"
     ]
    },
    {
     "name": "stdout",
     "output_type": "stream",
     "text": [
      "Processed and saved outputs for test_publishable_list_0_594\n",
      "Processed and saved outputs for test_publishable_list_5_610\n"
     ]
    },
    {
     "name": "stderr",
     "output_type": "stream",
     "text": [
      "I0000 00:00:1733642618.173694  280999 gl_context.cc:357] GL version: 2.1 (2.1 Metal - 88.1), renderer: Apple M1\n",
      "W0000 00:00:1733642618.175091  295304 inference_feedback_manager.cc:114] Feedback manager requires a model with a single signature inference. Disabling support for feedback tensors.\n",
      "W0000 00:00:1733642618.178998  295304 inference_feedback_manager.cc:114] Feedback manager requires a model with a single signature inference. Disabling support for feedback tensors.\n",
      "I0000 00:00:1733642618.310079  280999 gl_context.cc:357] GL version: 2.1 (2.1 Metal - 88.1), renderer: Apple M1\n",
      "W0000 00:00:1733642618.311365  295308 inference_feedback_manager.cc:114] Feedback manager requires a model with a single signature inference. Disabling support for feedback tensors.\n",
      "W0000 00:00:1733642618.315149  295308 inference_feedback_manager.cc:114] Feedback manager requires a model with a single signature inference. Disabling support for feedback tensors.\n"
     ]
    },
    {
     "name": "stdout",
     "output_type": "stream",
     "text": [
      "Processed and saved outputs for test_publishable_list_2_594\n",
      "Processed and saved outputs for test_publishable_list_3_594\n"
     ]
    },
    {
     "name": "stderr",
     "output_type": "stream",
     "text": [
      "I0000 00:00:1733642618.466297  280999 gl_context.cc:357] GL version: 2.1 (2.1 Metal - 88.1), renderer: Apple M1\n",
      "W0000 00:00:1733642618.467486  295317 inference_feedback_manager.cc:114] Feedback manager requires a model with a single signature inference. Disabling support for feedback tensors.\n",
      "W0000 00:00:1733642618.471691  295322 inference_feedback_manager.cc:114] Feedback manager requires a model with a single signature inference. Disabling support for feedback tensors.\n",
      "I0000 00:00:1733642618.616853  280999 gl_context.cc:357] GL version: 2.1 (2.1 Metal - 88.1), renderer: Apple M1\n",
      "W0000 00:00:1733642618.618125  295328 inference_feedback_manager.cc:114] Feedback manager requires a model with a single signature inference. Disabling support for feedback tensors.\n",
      "W0000 00:00:1733642618.622611  295328 inference_feedback_manager.cc:114] Feedback manager requires a model with a single signature inference. Disabling support for feedback tensors.\n"
     ]
    },
    {
     "name": "stdout",
     "output_type": "stream",
     "text": [
      "Processed and saved outputs for test_publishable_list_4_610\n",
      "Processed and saved outputs for test_publishable_list_2_122\n"
     ]
    },
    {
     "name": "stderr",
     "output_type": "stream",
     "text": [
      "I0000 00:00:1733642618.793131  280999 gl_context.cc:357] GL version: 2.1 (2.1 Metal - 88.1), renderer: Apple M1\n",
      "W0000 00:00:1733642618.794346  295349 inference_feedback_manager.cc:114] Feedback manager requires a model with a single signature inference. Disabling support for feedback tensors.\n",
      "W0000 00:00:1733642618.798856  295353 inference_feedback_manager.cc:114] Feedback manager requires a model with a single signature inference. Disabling support for feedback tensors.\n",
      "I0000 00:00:1733642618.935533  280999 gl_context.cc:357] GL version: 2.1 (2.1 Metal - 88.1), renderer: Apple M1\n",
      "W0000 00:00:1733642618.936723  295359 inference_feedback_manager.cc:114] Feedback manager requires a model with a single signature inference. Disabling support for feedback tensors.\n",
      "W0000 00:00:1733642618.940957  295358 inference_feedback_manager.cc:114] Feedback manager requires a model with a single signature inference. Disabling support for feedback tensors.\n"
     ]
    },
    {
     "name": "stdout",
     "output_type": "stream",
     "text": [
      "Processed and saved outputs for test_publishable_list_3_344\n",
      "Processed and saved outputs for test_publishable_list_2_344\n"
     ]
    },
    {
     "name": "stderr",
     "output_type": "stream",
     "text": [
      "I0000 00:00:1733642619.077716  280999 gl_context.cc:357] GL version: 2.1 (2.1 Metal - 88.1), renderer: Apple M1\n",
      "W0000 00:00:1733642619.078911  295366 inference_feedback_manager.cc:114] Feedback manager requires a model with a single signature inference. Disabling support for feedback tensors.\n",
      "W0000 00:00:1733642619.082833  295364 inference_feedback_manager.cc:114] Feedback manager requires a model with a single signature inference. Disabling support for feedback tensors.\n",
      "I0000 00:00:1733642619.217685  280999 gl_context.cc:357] GL version: 2.1 (2.1 Metal - 88.1), renderer: Apple M1\n",
      "W0000 00:00:1733642619.218984  295375 inference_feedback_manager.cc:114] Feedback manager requires a model with a single signature inference. Disabling support for feedback tensors.\n",
      "W0000 00:00:1733642619.223036  295375 inference_feedback_manager.cc:114] Feedback manager requires a model with a single signature inference. Disabling support for feedback tensors.\n"
     ]
    },
    {
     "name": "stdout",
     "output_type": "stream",
     "text": [
      "Processed and saved outputs for test_publishable_list_3_122\n",
      "Processed and saved outputs for test_publishable_list_1_122\n"
     ]
    },
    {
     "name": "stderr",
     "output_type": "stream",
     "text": [
      "I0000 00:00:1733642619.366124  280999 gl_context.cc:357] GL version: 2.1 (2.1 Metal - 88.1), renderer: Apple M1\n",
      "W0000 00:00:1733642619.368962  295384 inference_feedback_manager.cc:114] Feedback manager requires a model with a single signature inference. Disabling support for feedback tensors.\n",
      "W0000 00:00:1733642619.373255  295382 inference_feedback_manager.cc:114] Feedback manager requires a model with a single signature inference. Disabling support for feedback tensors.\n",
      "W0000 00:00:1733642619.509085  280999 gl_context_nsgl.cc:104] Requested context not created, using queried context.\n"
     ]
    },
    {
     "ename": "RuntimeError",
     "evalue": "Service \"kGpuService\", required by node facedetectionshortrangecpu__facedetectionshortrange__facedetection__ImageToTensorCalculator, was not provided and cannot be created: ; RET_CHECK failure (mediapipe/gpu/gl_context_nsgl.cc:116) context_Could not create an NSOpenGLContext",
     "output_type": "error",
     "traceback": [
      "\u001b[0;31m---------------------------------------------------------------------------\u001b[0m",
      "\u001b[0;31mRuntimeError\u001b[0m                              Traceback (most recent call last)",
      "Cell \u001b[0;32mIn[16], line 30\u001b[0m\n\u001b[1;32m     27\u001b[0m image_depth \u001b[38;5;241m=\u001b[39m preprocess_image(depth_path)\n\u001b[1;32m     28\u001b[0m image_roughness \u001b[38;5;241m=\u001b[39m preprocess_image(roughness_path)\n\u001b[0;32m---> 30\u001b[0m lip_mask, lip_binary_mask \u001b[38;5;241m=\u001b[39m \u001b[43mlip_segmentation\u001b[49m\u001b[43m(\u001b[49m\u001b[43mimage_albedo\u001b[49m\u001b[43m)\u001b[49m\n\u001b[1;32m     31\u001b[0m lip_mask_diffuse \u001b[38;5;241m=\u001b[39m cv2\u001b[38;5;241m.\u001b[39mbitwise_and(image_diffuse, image_diffuse, mask\u001b[38;5;241m=\u001b[39mlip_binary_mask)\n\u001b[1;32m     32\u001b[0m lip_mask_specular \u001b[38;5;241m=\u001b[39m cv2\u001b[38;5;241m.\u001b[39mbitwise_and(image_specular, image_specular, mask\u001b[38;5;241m=\u001b[39mlip_binary_mask)\n",
      "Cell \u001b[0;32mIn[5], line 15\u001b[0m, in \u001b[0;36mlip_segmentation\u001b[0;34m(image_rgb)\u001b[0m\n\u001b[1;32m     13\u001b[0m \u001b[38;5;28;01mdef\u001b[39;00m \u001b[38;5;21mlip_segmentation\u001b[39m(image_rgb):\n\u001b[1;32m     14\u001b[0m     \u001b[38;5;66;03m# mp_face_mesh = mp.solutions.face_mesh\u001b[39;00m\n\u001b[0;32m---> 15\u001b[0m     face_mesh \u001b[38;5;241m=\u001b[39m \u001b[43mmp\u001b[49m\u001b[38;5;241;43m.\u001b[39;49m\u001b[43msolutions\u001b[49m\u001b[38;5;241;43m.\u001b[39;49m\u001b[43mface_mesh\u001b[49m\u001b[38;5;241;43m.\u001b[39;49m\u001b[43mFaceMesh\u001b[49m\u001b[43m(\u001b[49m\n\u001b[1;32m     16\u001b[0m \u001b[43m        \u001b[49m\u001b[43mstatic_image_mode\u001b[49m\u001b[38;5;241;43m=\u001b[39;49m\u001b[38;5;28;43;01mTrue\u001b[39;49;00m\u001b[43m,\u001b[49m\u001b[43m \u001b[49m\u001b[43mmax_num_faces\u001b[49m\u001b[38;5;241;43m=\u001b[39;49m\u001b[38;5;241;43m1\u001b[39;49m\u001b[43m,\u001b[49m\u001b[43m \u001b[49m\u001b[43mrefine_landmarks\u001b[49m\u001b[38;5;241;43m=\u001b[39;49m\u001b[38;5;28;43;01mTrue\u001b[39;49;00m\u001b[43m)\u001b[49m\n\u001b[1;32m     17\u001b[0m     results \u001b[38;5;241m=\u001b[39m face_mesh\u001b[38;5;241m.\u001b[39mprocess(image_rgb)\n\u001b[1;32m     19\u001b[0m     lip_indices \u001b[38;5;241m=\u001b[39m [\n\u001b[1;32m     20\u001b[0m         \u001b[38;5;241m61\u001b[39m, \u001b[38;5;241m146\u001b[39m, \u001b[38;5;241m91\u001b[39m, \u001b[38;5;241m181\u001b[39m, \u001b[38;5;241m84\u001b[39m, \u001b[38;5;241m17\u001b[39m, \u001b[38;5;241m314\u001b[39m, \u001b[38;5;241m405\u001b[39m, \u001b[38;5;241m321\u001b[39m, \u001b[38;5;241m375\u001b[39m,\n\u001b[1;32m     21\u001b[0m         \u001b[38;5;241m291\u001b[39m, \u001b[38;5;241m61\u001b[39m, \u001b[38;5;241m185\u001b[39m, \u001b[38;5;241m40\u001b[39m, \u001b[38;5;241m39\u001b[39m, \u001b[38;5;241m37\u001b[39m, \u001b[38;5;241m0\u001b[39m, \u001b[38;5;241m267\u001b[39m, \u001b[38;5;241m269\u001b[39m, \u001b[38;5;241m270\u001b[39m,\n\u001b[0;32m   (...)\u001b[0m\n\u001b[1;32m     24\u001b[0m         \u001b[38;5;241m311\u001b[39m, \u001b[38;5;241m310\u001b[39m, \u001b[38;5;241m415\u001b[39m, \u001b[38;5;241m308\u001b[39m\n\u001b[1;32m     25\u001b[0m     ]\n",
      "File \u001b[0;32m/opt/anaconda3/envs/l3d/lib/python3.9/site-packages/mediapipe/python/solutions/face_mesh.py:95\u001b[0m, in \u001b[0;36mFaceMesh.__init__\u001b[0;34m(self, static_image_mode, max_num_faces, refine_landmarks, min_detection_confidence, min_tracking_confidence)\u001b[0m\n\u001b[1;32m     70\u001b[0m \u001b[38;5;28;01mdef\u001b[39;00m \u001b[38;5;21m__init__\u001b[39m(\u001b[38;5;28mself\u001b[39m,\n\u001b[1;32m     71\u001b[0m              static_image_mode\u001b[38;5;241m=\u001b[39m\u001b[38;5;28;01mFalse\u001b[39;00m,\n\u001b[1;32m     72\u001b[0m              max_num_faces\u001b[38;5;241m=\u001b[39m\u001b[38;5;241m1\u001b[39m,\n\u001b[1;32m     73\u001b[0m              refine_landmarks\u001b[38;5;241m=\u001b[39m\u001b[38;5;28;01mFalse\u001b[39;00m,\n\u001b[1;32m     74\u001b[0m              min_detection_confidence\u001b[38;5;241m=\u001b[39m\u001b[38;5;241m0.5\u001b[39m,\n\u001b[1;32m     75\u001b[0m              min_tracking_confidence\u001b[38;5;241m=\u001b[39m\u001b[38;5;241m0.5\u001b[39m):\n\u001b[1;32m     76\u001b[0m \u001b[38;5;250m  \u001b[39m\u001b[38;5;124;03m\"\"\"Initializes a MediaPipe Face Mesh object.\u001b[39;00m\n\u001b[1;32m     77\u001b[0m \n\u001b[1;32m     78\u001b[0m \u001b[38;5;124;03m  Args:\u001b[39;00m\n\u001b[0;32m   (...)\u001b[0m\n\u001b[1;32m     93\u001b[0m \u001b[38;5;124;03m      https://solutions.mediapipe.dev/face_mesh#min_tracking_confidence.\u001b[39;00m\n\u001b[1;32m     94\u001b[0m \u001b[38;5;124;03m  \"\"\"\u001b[39;00m\n\u001b[0;32m---> 95\u001b[0m   \u001b[38;5;28;43msuper\u001b[39;49m\u001b[43m(\u001b[49m\u001b[43m)\u001b[49m\u001b[38;5;241;43m.\u001b[39;49m\u001b[38;5;21;43m__init__\u001b[39;49m\u001b[43m(\u001b[49m\n\u001b[1;32m     96\u001b[0m \u001b[43m      \u001b[49m\u001b[43mbinary_graph_path\u001b[49m\u001b[38;5;241;43m=\u001b[39;49m\u001b[43m_BINARYPB_FILE_PATH\u001b[49m\u001b[43m,\u001b[49m\n\u001b[1;32m     97\u001b[0m \u001b[43m      \u001b[49m\u001b[43mside_inputs\u001b[49m\u001b[38;5;241;43m=\u001b[39;49m\u001b[43m{\u001b[49m\n\u001b[1;32m     98\u001b[0m \u001b[43m          \u001b[49m\u001b[38;5;124;43m'\u001b[39;49m\u001b[38;5;124;43mnum_faces\u001b[39;49m\u001b[38;5;124;43m'\u001b[39;49m\u001b[43m:\u001b[49m\u001b[43m \u001b[49m\u001b[43mmax_num_faces\u001b[49m\u001b[43m,\u001b[49m\n\u001b[1;32m     99\u001b[0m \u001b[43m          \u001b[49m\u001b[38;5;124;43m'\u001b[39;49m\u001b[38;5;124;43mwith_attention\u001b[39;49m\u001b[38;5;124;43m'\u001b[39;49m\u001b[43m:\u001b[49m\u001b[43m \u001b[49m\u001b[43mrefine_landmarks\u001b[49m\u001b[43m,\u001b[49m\n\u001b[1;32m    100\u001b[0m \u001b[43m          \u001b[49m\u001b[38;5;124;43m'\u001b[39;49m\u001b[38;5;124;43muse_prev_landmarks\u001b[39;49m\u001b[38;5;124;43m'\u001b[39;49m\u001b[43m:\u001b[49m\u001b[43m \u001b[49m\u001b[38;5;129;43;01mnot\u001b[39;49;00m\u001b[43m \u001b[49m\u001b[43mstatic_image_mode\u001b[49m\u001b[43m,\u001b[49m\n\u001b[1;32m    101\u001b[0m \u001b[43m      \u001b[49m\u001b[43m}\u001b[49m\u001b[43m,\u001b[49m\n\u001b[1;32m    102\u001b[0m \u001b[43m      \u001b[49m\u001b[43mcalculator_params\u001b[49m\u001b[38;5;241;43m=\u001b[39;49m\u001b[43m{\u001b[49m\n\u001b[1;32m    103\u001b[0m \u001b[43m          \u001b[49m\u001b[38;5;124;43m'\u001b[39;49m\u001b[38;5;124;43mfacedetectionshortrangecpu__facedetectionshortrange__facedetection__TensorsToDetectionsCalculator.min_score_thresh\u001b[39;49m\u001b[38;5;124;43m'\u001b[39;49m\u001b[43m:\u001b[49m\n\u001b[1;32m    104\u001b[0m \u001b[43m              \u001b[49m\u001b[43mmin_detection_confidence\u001b[49m\u001b[43m,\u001b[49m\n\u001b[1;32m    105\u001b[0m \u001b[43m          \u001b[49m\u001b[38;5;124;43m'\u001b[39;49m\u001b[38;5;124;43mfacelandmarkcpu__ThresholdingCalculator.threshold\u001b[39;49m\u001b[38;5;124;43m'\u001b[39;49m\u001b[43m:\u001b[49m\n\u001b[1;32m    106\u001b[0m \u001b[43m              \u001b[49m\u001b[43mmin_tracking_confidence\u001b[49m\u001b[43m,\u001b[49m\n\u001b[1;32m    107\u001b[0m \u001b[43m      \u001b[49m\u001b[43m}\u001b[49m\u001b[43m,\u001b[49m\n\u001b[1;32m    108\u001b[0m \u001b[43m      \u001b[49m\u001b[43moutputs\u001b[49m\u001b[38;5;241;43m=\u001b[39;49m\u001b[43m[\u001b[49m\u001b[38;5;124;43m'\u001b[39;49m\u001b[38;5;124;43mmulti_face_landmarks\u001b[39;49m\u001b[38;5;124;43m'\u001b[39;49m\u001b[43m]\u001b[49m\u001b[43m)\u001b[49m\n",
      "File \u001b[0;32m/opt/anaconda3/envs/l3d/lib/python3.9/site-packages/mediapipe/python/solution_base.py:263\u001b[0m, in \u001b[0;36mSolutionBase.__init__\u001b[0;34m(self, binary_graph_path, graph_config, calculator_params, graph_options, side_inputs, outputs, stream_type_hints)\u001b[0m\n\u001b[1;32m    257\u001b[0m   \u001b[38;5;28mself\u001b[39m\u001b[38;5;241m.\u001b[39m_graph\u001b[38;5;241m.\u001b[39mobserve_output_stream(stream_name, callback, \u001b[38;5;28;01mTrue\u001b[39;00m)\n\u001b[1;32m    259\u001b[0m \u001b[38;5;28mself\u001b[39m\u001b[38;5;241m.\u001b[39m_input_side_packets \u001b[38;5;241m=\u001b[39m {\n\u001b[1;32m    260\u001b[0m     name: \u001b[38;5;28mself\u001b[39m\u001b[38;5;241m.\u001b[39m_make_packet(\u001b[38;5;28mself\u001b[39m\u001b[38;5;241m.\u001b[39m_side_input_type_info[name], data)\n\u001b[1;32m    261\u001b[0m     \u001b[38;5;28;01mfor\u001b[39;00m name, data \u001b[38;5;129;01min\u001b[39;00m (side_inputs \u001b[38;5;129;01mor\u001b[39;00m {})\u001b[38;5;241m.\u001b[39mitems()\n\u001b[1;32m    262\u001b[0m }\n\u001b[0;32m--> 263\u001b[0m \u001b[38;5;28;43mself\u001b[39;49m\u001b[38;5;241;43m.\u001b[39;49m\u001b[43m_graph\u001b[49m\u001b[38;5;241;43m.\u001b[39;49m\u001b[43mstart_run\u001b[49m\u001b[43m(\u001b[49m\u001b[38;5;28;43mself\u001b[39;49m\u001b[38;5;241;43m.\u001b[39;49m\u001b[43m_input_side_packets\u001b[49m\u001b[43m)\u001b[49m\n",
      "\u001b[0;31mRuntimeError\u001b[0m: Service \"kGpuService\", required by node facedetectionshortrangecpu__facedetectionshortrange__facedetection__ImageToTensorCalculator, was not provided and cannot be created: ; RET_CHECK failure (mediapipe/gpu/gl_context_nsgl.cc:116) context_Could not create an NSOpenGLContext"
     ]
    }
   ],
   "source": [
    "import os\n",
    "\n",
    "# Load CelebA Metadata\n",
    "# metadata_path = 'celeba-dataset-metadata.json'\n",
    "image_files = load_celeba_data(\"test_publishable_list\") # change this on different devices\n",
    "\n",
    "# Create output directory if it doesn't exist\n",
    "output_dir = 'lip-segmentation-outputs'\n",
    "os.makedirs(output_dir, exist_ok=True)\n",
    "\n",
    "# Process Each Image\n",
    "for image_path in image_files:\n",
    "    # Retrieve individual image layers\n",
    "    albedo_path = os.path.join(image_path, \"1_Albedo.exr\")\n",
    "    diffuse_path = os.path.join(image_path, \"1_Diffuse.exr\")\n",
    "    specular_path = os.path.join(image_path, \"1_Specular_naivelyscaled.exr\")\n",
    "    depth_path = os.path.join(image_path, \"1_Depth.exr\")\n",
    "    roughness_path = os.path.join(image_path, \"1_Roughness_map.exr\")   \n",
    "    if not os.path.exists(albedo_path) or not os.path.exists(diffuse_path) or not os.path.exists(specular_path) or \\\n",
    "        not os.path.exists(depth_path) or not os.path.exists(roughness_path):\n",
    "        print(\"Missing image path!\")\n",
    "        continue\n",
    "\n",
    "    image_albedo = preprocess_image(albedo_path)\n",
    "    image_diffuse = preprocess_image(diffuse_path)\n",
    "    image_specular = preprocess_image(specular_path)\n",
    "    image_depth = preprocess_image(depth_path)\n",
    "    image_roughness = preprocess_image(roughness_path)\n",
    "\n",
    "    lip_mask, lip_binary_mask = lip_segmentation(image_albedo)\n",
    "    lip_mask_diffuse = cv2.bitwise_and(image_diffuse, image_diffuse, mask=lip_binary_mask)\n",
    "    lip_mask_specular = cv2.bitwise_and(image_specular, image_specular, mask=lip_binary_mask)\n",
    "    lip_mask_depth = cv2.bitwise_and(image_depth, image_depth, mask=lip_binary_mask)\n",
    "    lip_mask_roughness = cv2.bitwise_and(image_roughness, image_roughness, mask=lip_binary_mask)\n",
    "    \n",
    "    # Apply lipstick color to albedo image and generate albedo mask\n",
    "    lipstick_color = np.array([255, 0, 0])\n",
    "    blended_albedo_mask = blend_albedo(image_albedo, lip_binary_mask, lipstick_color, blend_factor=0.25)\n",
    "\n",
    "    # Enhance specular highlights using roughness map\n",
    "    adjusted_specular_mask = adjust_specular_with_roughness(lip_mask_specular, lip_mask_roughness, intensity=0.3) \n",
    "\n",
    "    # Composite diffuse and specular masks with the base (albedo) image\n",
    "    final_image = composite_final_image(image_albedo, blended_albedo_mask, lip_mask_diffuse, adjusted_specular_mask)\n",
    "\n",
    "    # Save composited image and lip masks\n",
    "    base_name = os.path.splitext(os.path.basename(image_path))[0]\n",
    "    output_path = os.path.join(output_dir, f'{base_name}')\n",
    "    os.makedirs(output_path, exist_ok=True)\n",
    "    cv2.imwrite(os.path.join(output_path, 'lip_mask.png'), cv2.cvtColor(lip_mask, cv2.COLOR_RGB2BGR))\n",
    "    cv2.imwrite(os.path.join(output_path, 'binary_mask.png'), lip_binary_mask)\n",
    "    final_image_float = final_image.astype(np.float32) / 255.0\n",
    "    cv2.imwrite(os.path.join(output_path, 'final_adjusted.exr'), cv2.cvtColor(final_image_float, cv2.COLOR_RGB2BGR))\n",
    "\n",
    "    print(f'Processed and saved outputs for {base_name}')\n",
    "    "
   ]
  },
  {
   "cell_type": "markdown",
   "metadata": {},
   "source": [
    "# Next Step - Parallelize the processing with a dataloader type multiprocessing. Perhaps using image transform"
   ]
  },
  {
   "cell_type": "code",
   "execution_count": null,
   "metadata": {},
   "outputs": [],
   "source": []
  },
  {
   "cell_type": "code",
   "execution_count": null,
   "metadata": {},
   "outputs": [],
   "source": []
  },
  {
   "cell_type": "code",
   "execution_count": null,
   "metadata": {},
   "outputs": [],
   "source": []
  }
 ],
 "metadata": {
  "kernelspec": {
   "display_name": "Python 3",
   "language": "python",
   "name": "python3"
  },
  "language_info": {
   "codemirror_mode": {
    "name": "ipython",
    "version": 3
   },
   "file_extension": ".py",
   "mimetype": "text/x-python",
   "name": "python",
   "nbconvert_exporter": "python",
   "pygments_lexer": "ipython3",
   "version": "3.9.20"
  }
 },
 "nbformat": 4,
 "nbformat_minor": 4
}
